{
 "cells": [
  {
   "cell_type": "code",
   "execution_count": 66,
   "metadata": {},
   "outputs": [
    {
     "name": "stdout",
     "output_type": "stream",
     "text": [
      "<class 'pandas.core.frame.DataFrame'>\n",
      "RangeIndex: 5 entries, 0 to 4\n",
      "Data columns (total 6 columns):\n",
      " #   Column       Non-Null Count  Dtype \n",
      "---  ------       --------------  ----- \n",
      " 0   Job Title    4 non-null      object\n",
      " 1   Company      4 non-null      object\n",
      " 2   Location     4 non-null      object\n",
      " 3   Posted Date  5 non-null      object\n",
      " 4   Skills       4 non-null      object\n",
      " 5   Salary       4 non-null      object\n",
      "dtypes: object(6)\n",
      "memory usage: 372.0+ bytes\n"
     ]
    },
    {
     "data": {
      "text/plain": [
       "(None,\n",
       "            Job Title Company           Location  Posted Date  \\\n",
       " 0  Software Engineer  Google       New York, NY   2024-10-15   \n",
       " 1     Data Scientist  Amazon        Seattle, WA   2024-11-01   \n",
       " 2    Product Manager    Meta               None  InvalidDate   \n",
       " 3               None   Apple  San Francisco, CA   2024-10-25   \n",
       " 4        UX Designer    None         Austin, TX   2024-11-10   \n",
       " \n",
       "                      Skills         Salary  \n",
       " 0  Python, Machine Learning  120000-140000  \n",
       " 1                      None           None  \n",
       " 2   Agile, Product Strategy  130000-150000  \n",
       " 3        Swift, Objective-C  115000-135000  \n",
       " 4        Figma, UX Research  105000-125000  )"
      ]
     },
     "execution_count": 66,
     "metadata": {},
     "output_type": "execute_result"
    }
   ],
   "source": [
    "import numpy as np\n",
    "\n",
    "mock_data = {\n",
    "    \"Job Title\": [\"Software Engineer\", \"Data Scientist\", \"Product Manager\", None, \"UX Designer\"],\n",
    "    \"Company\": [\"Google\", \"Amazon\", \"Meta\", \"Apple\", None],\n",
    "    \"Location\": [\"New York, NY\", \"Seattle, WA\", None, \"San Francisco, CA\", \"Austin, TX\"],\n",
    "    \"Posted Date\": [\"2024-10-15\", \"2024-11-01\", \"InvalidDate\", \"2024-10-25\", \"2024-11-10\"],\n",
    "    \"Skills\": [\"Python, Machine Learning\", None, \"Agile, Product Strategy\", \"Swift, Objective-C\", \"Figma, UX Research\"],\n",
    "    \"Salary\": [\"120000-140000\", None, \"130000-150000\", \"115000-135000\", \"105000-125000\"]\n",
    "}\n",
    "\n",
    "mock_df = pd.DataFrame(mock_data)\n",
    "\n",
    "mock_df.info(), mock_df.head()\n"
   ]
  },
  {
   "cell_type": "code",
   "execution_count": 72,
   "metadata": {
    "execution": {
     "iopub.execute_input": "2024-11-15T06:28:10.178229Z",
     "iopub.status.busy": "2024-11-15T06:28:10.176083Z",
     "iopub.status.idle": "2024-11-15T06:28:10.190056Z",
     "shell.execute_reply": "2024-11-15T06:28:10.189269Z",
     "shell.execute_reply.started": "2024-11-15T06:28:10.178147Z"
    }
   },
   "outputs": [
    {
     "name": "stderr",
     "output_type": "stream",
     "text": [
      "[nltk_data] Downloading package punkt to\n",
      "[nltk_data]     /Users/brithaniabruny/nltk_data...\n",
      "[nltk_data]   Unzipping tokenizers/punkt.zip.\n"
     ]
    },
    {
     "name": "stdout",
     "output_type": "stream",
     "text": [
      "<class 'pandas.core.frame.DataFrame'>\n",
      "RangeIndex: 5 entries, 0 to 4\n",
      "Data columns (total 6 columns):\n",
      " #   Column       Non-Null Count  Dtype \n",
      "---  ------       --------------  ----- \n",
      " 0   Job Title    4 non-null      object\n",
      " 1   Company      4 non-null      object\n",
      " 2   Location     4 non-null      object\n",
      " 3   Posted Date  5 non-null      object\n",
      " 4   Skills       4 non-null      object\n",
      " 5   Salary       4 non-null      object\n",
      "dtypes: object(6)\n",
      "memory usage: 372.0+ bytes\n",
      "None\n",
      "           Job Title Company           Location  Posted Date  \\\n",
      "0  Software Engineer  Google       New York, NY   2024-10-15   \n",
      "1     Data Scientist  Amazon        Seattle, WA   2024-11-01   \n",
      "2    Product Manager    Meta               None  InvalidDate   \n",
      "3               None   Apple  San Francisco, CA   2024-10-25   \n",
      "4        UX Designer    None         Austin, TX   2024-11-10   \n",
      "\n",
      "                     Skills         Salary  \n",
      "0  Python, Machine Learning  120000-140000  \n",
      "1                      None           None  \n",
      "2   Agile, Product Strategy  130000-150000  \n",
      "3        Swift, Objective-C  115000-135000  \n",
      "4        Figma, UX Research  105000-125000  \n",
      "Bachelor's Degree\n",
      "Index(['Name', 'Age', 'City'], dtype='object')\n"
     ]
    }
   ],
   "source": [
    "# Import necessary libraries\n",
    "import nltk  # Import nltk for text processing\n",
    "import pandas as pd  # Import pandas for data handling\n",
    "\n",
    "# Ensure NLTK dependencies are downloaded\n",
    "nltk.download('punkt')\n",
    "\n",
    "# Mock data dictionary\n",
    "mock_data = {\n",
    "    \"Job Title\": [\"Software Engineer\", \"Data Scientist\", \"Product Manager\", None, \"UX Designer\"],\n",
    "    \"Company\": [\"Google\", \"Amazon\", \"Meta\", \"Apple\", None],\n",
    "    \"Location\": [\"New York, NY\", \"Seattle, WA\", None, \"San Francisco, CA\", \"Austin, TX\"],\n",
    "    \"Posted Date\": [\"2024-10-15\", \"2024-11-01\", \"InvalidDate\", \"2024-10-25\", \"2024-11-10\"],\n",
    "    \"Skills\": [\"Python, Machine Learning\", None, \"Agile, Product Strategy\", \"Swift, Objective-C\", \"Figma, UX Research\"],\n",
    "    \"Salary\": [\"120000-140000\", None, \"130000-150000\", \"115000-135000\", \"105000-125000\"]\n",
    "}\n",
    "\n",
    "# Create DataFrame\n",
    "mock_df = pd.DataFrame(mock_data)\n",
    "\n",
    "# Display DataFrame info and preview\n",
    "print(mock_df.info())\n",
    "print(mock_df.head())\n",
    "\n",
    "# Example: SimpleNamespace usage\n",
    "from types import SimpleNamespace  # Import SimpleNamespace for mock object creation\n",
    "data = {\"RequiredQual\": \"Bachelor's Degree\", \"Experience\": \"2 years\"}\n",
    "data_obj = SimpleNamespace(**data)\n",
    "print(data_obj.RequiredQual)\n",
    "\n",
    "# Example DataFrame\n",
    "data = pd.DataFrame({\n",
    "    \"Name\": [\"Alice\", \"Bob\", \"Charlie\"],\n",
    "    \"Age\": [25, 30, 35],\n",
    "    \"City\": [\"New York\", \"Los Angeles\", \"Chicago\"]\n",
    "})\n",
    "\n",
    "# Display columns of DataFrame\n",
    "print(data.columns)\n"
   ]
  },
  {
   "cell_type": "code",
   "execution_count": 80,
   "metadata": {
    "execution": {
     "iopub.execute_input": "2024-11-15T06:31:19.360517Z",
     "iopub.status.busy": "2024-11-15T06:31:19.359644Z",
     "iopub.status.idle": "2024-11-15T06:31:19.378171Z",
     "shell.execute_reply": "2024-11-15T06:31:19.377289Z",
     "shell.execute_reply.started": "2024-11-15T06:31:19.360444Z"
    }
   },
   "outputs": [
    {
     "name": "stdout",
     "output_type": "stream",
     "text": [
      "           Job Title                                   Job Requirements  \\\n",
      "0  Software Engineer  Bachelor's degree in Computer Science or relat...   \n",
      "1     Data Scientist  Proficiency in machine learning. Master's degr...   \n",
      "2    Product Manager                      No job requirements provided.   \n",
      "3               None  5+ years of experience in iOS development. Pro...   \n",
      "4        UX Designer  Experience in UX research and design. Bachelor...   \n",
      "\n",
      "  Years of Experience                             Tokenized Requirements  \n",
      "0                None  [Bachelor, 's, degree, in, Computer, Science, ...  \n",
      "1                None  [Proficiency, in, machine, learning, ., Master...  \n",
      "2                None               [No, job, requirements, provided, .]  \n",
      "3                None  [5+, years, of, experience, in, iOS, developme...  \n",
      "4                None  [Experience, in, UX, research, and, design, .,...  \n"
     ]
    },
    {
     "name": "stderr",
     "output_type": "stream",
     "text": [
      "[nltk_data] Downloading package punkt to\n",
      "[nltk_data]     /Users/brithaniabruny/nltk_data...\n",
      "[nltk_data]   Package punkt is already up-to-date!\n"
     ]
    }
   ],
   "source": [
    "import nltk  \n",
    "import pandas as pd  \n",
    "from types import SimpleNamespace \n",
    "\n",
    "nltk.download('punkt')\n",
    "\n",
    "mock_data = {\n",
    "    \"Job Title\": [\"Software Engineer\", \"Data Scientist\", \"Product Manager\", None, \"UX Designer\"],\n",
    "    \"Company\": [\"Google\", \"Amazon\", \"Meta\", \"Apple\", None],\n",
    "    \"Location\": [\"New York, NY\", \"Seattle, WA\", None, \"San Francisco, CA\", \"Austin, TX\"],\n",
    "    \"Posted Date\": [\"2024-10-15\", \"2024-11-01\", \"InvalidDate\", \"2024-10-25\", \"2024-11-10\"],\n",
    "    \"Skills\": [\"Python, Machine Learning\", None, \"Agile, Product Strategy\", \"Swift, Objective-C\", \"Figma, UX Research\"],\n",
    "    \"Salary\": [\"120000-140000\", None, \"130000-150000\", \"115000-135000\", \"105000-125000\"],\n",
    "    \"Job Requirements\": [\n",
    "        \"Bachelor's degree in Computer Science or related field. 2+ years of experience with Python.\",\n",
    "        \"Proficiency in machine learning. Master's degree preferred.\",\n",
    "        None,\n",
    "        \"5+ years of experience in iOS development. Proficient in Swift.\",\n",
    "        \"Experience in UX research and design. Bachelor's degree required.\"\n",
    "    ]\n",
    "}\n",
    "\n",
    "mock_df = pd.DataFrame(mock_data)\n",
    "\n",
    "\n",
    "mock_df['Job Requirements'] = mock_df['Job Requirements'].fillna(\"No job requirements provided.\")\n",
    "\n",
    "\n",
    "mock_df['Tokenized Requirements'] = mock_df['Job Requirements'].apply(nltk.word_tokenize)\n",
    "\n",
    "def extract_experience(requirement):\n",
    "    tokens = nltk.word_tokenize(requirement)\n",
    "    for i, token in enumerate(tokens):\n",
    "        if token.isdigit() and i + 1 < len(tokens) and tokens[i + 1] in [\"year\", \"years\"]:\n",
    "            return int(token)\n",
    "    return None\n",
    "\n",
    "mock_df['Years of Experience'] = mock_df['Job Requirements'].apply(extract_experience)\n",
    "\n",
    "\n",
    "print(mock_df[['Job Title', 'Job Requirements', 'Years of Experience', 'Tokenized Requirements']])\n"
   ]
  },
  {
   "cell_type": "code",
   "execution_count": 81,
   "metadata": {
    "execution": {
     "iopub.execute_input": "2024-11-15T06:36:56.981176Z",
     "iopub.status.busy": "2024-11-15T06:36:56.980724Z",
     "iopub.status.idle": "2024-11-15T06:36:57.009057Z",
     "shell.execute_reply": "2024-11-15T06:36:57.007889Z",
     "shell.execute_reply.started": "2024-11-15T06:36:56.981042Z"
    }
   },
   "outputs": [
    {
     "data": {
      "text/plain": [
       "Title\n",
       "Engineer    2\n",
       "Doctor      1\n",
       "Artist      1\n",
       "Name: count, dtype: int64"
      ]
     },
     "execution_count": 81,
     "metadata": {},
     "output_type": "execute_result"
    }
   ],
   "source": [
    "classes = df['Title'].value_counts()[:20]\n",
    "keys = classes.keys().to_list()\n",
    "\n",
    "df = df[df['Title'].isin(keys)]\n",
    "df['Title'].value_counts()"
   ]
  },
  {
   "cell_type": "code",
   "execution_count": 82,
   "metadata": {
    "execution": {
     "iopub.execute_input": "2024-11-15T06:36:59.709789Z",
     "iopub.status.busy": "2024-11-15T06:36:59.706522Z",
     "iopub.status.idle": "2024-11-15T06:36:59.744357Z",
     "shell.execute_reply": "2024-11-15T06:36:59.742728Z",
     "shell.execute_reply.started": "2024-11-15T06:36:59.709682Z"
    }
   },
   "outputs": [
    {
     "data": {
      "text/plain": [
       "Title\n",
       "Engineer    2\n",
       "Doctor      1\n",
       "Artist      1\n",
       "Name: count, dtype: int64"
      ]
     },
     "execution_count": 82,
     "metadata": {},
     "output_type": "execute_result"
    }
   ],
   "source": [
    "def chane_titles(x):\n",
    "    x = x.strip()\n",
    "    if x == 'Senior Java Developer':\n",
    "        return 'Java Developer'\n",
    "    elif x == 'Senior Software Engineer':\n",
    "        return 'Software Engineer'\n",
    "    elif x == 'Senior QA Engineer':\n",
    "        return 'Software QA Engineer'\n",
    "    elif x == 'Senior Software Developer':\n",
    "        return 'Senior Web Developer'\n",
    "    elif x =='Senior PHP Developer':\n",
    "        return 'PHP Developer'\n",
    "    elif x == 'Senior .NET Developer':\n",
    "        return '.NET Developer'\n",
    "    elif x == 'Senior Web Developer':\n",
    "        return 'Web Developer'\n",
    "    elif x == 'Database Administrator':\n",
    "        return 'Database Admin/Dev'\n",
    "    elif x == 'Database Developer':\n",
    "        return 'Database Admin/Dev'\n",
    "\n",
    "    else:\n",
    "        return x\n",
    "        \n",
    "    \n",
    "df['Title'] = df['Title'].apply(chane_titles)\n",
    "df['Title'].value_counts()"
   ]
  },
  {
   "cell_type": "code",
   "execution_count": 85,
   "metadata": {
    "execution": {
     "iopub.execute_input": "2024-11-15T06:37:02.962656Z",
     "iopub.status.busy": "2024-11-15T06:37:02.961995Z",
     "iopub.status.idle": "2024-11-15T06:37:03.133741Z",
     "shell.execute_reply": "2024-11-15T06:37:03.132773Z",
     "shell.execute_reply.started": "2024-11-15T06:37:02.962600Z"
    },
    "scrolled": true
   },
   "outputs": [
    {
     "name": "stdout",
     "output_type": "stream",
     "text": [
      "        RequiredQual                        JobDescription  \\\n",
      "0  Bachelor's Degree  Develop scalable software solutions.   \n",
      "1    Master's Degree        Analyze and model data trends.   \n",
      "2                                                            \n",
      "3                PhD            Conduct advanced research.   \n",
      "4  Bachelor's Degree      Design user-friendly interfaces.   \n",
      "\n",
      "                        JobRequirment  \\\n",
      "0   2+ years of experience in Python.   \n",
      "1                                       \n",
      "2  Proficient in Agile methodologies.   \n",
      "3       Experience in AI/ML research.   \n",
      "4        Experience with UX/UI tools.   \n",
      "\n",
      "                                            Combined  \n",
      "0  Bachelor's Degree Develop scalable software so...  \n",
      "1    Master's Degree Analyze and model data trends.   \n",
      "2                 Proficient in Agile methodologies.  \n",
      "3  PhD Conduct advanced research. Experience in A...  \n",
      "4  Bachelor's Degree Design user-friendly interfa...  \n"
     ]
    }
   ],
   "source": [
    "import pandas as pd\n",
    "\n",
    "data = {\n",
    "    \"RequiredQual\": [\"Bachelor's Degree\", \"Master's Degree\", None, \"PhD\", \"Bachelor's Degree\"],\n",
    "    \"JobDescription\": [\n",
    "        \"Develop scalable software solutions.\",\n",
    "        \"Analyze and model data trends.\",\n",
    "        None,\n",
    "        \"Conduct advanced research.\",\n",
    "        \"Design user-friendly interfaces.\"\n",
    "    ],\n",
    "    \"JobRequirment\": [\n",
    "        \"2+ years of experience in Python.\",\n",
    "        None,\n",
    "        \"Proficient in Agile methodologies.\",\n",
    "        \"Experience in AI/ML research.\",\n",
    "        \"Experience with UX/UI tools.\"\n",
    "    ]\n",
    "}\n",
    "\n",
    "df = pd.DataFrame(data)\n",
    "\n",
    "df = df.fillna(\"\")\n",
    "\n",
    "df[\"Combined\"] = df[\"RequiredQual\"] + \" \" + df[\"JobDescription\"] + \" \" + df[\"JobRequirment\"]\n",
    "\n",
    "\n",
    "df[\"Combined\"] = df[\"Combined\"].apply(lambda x: x.replace(\"\\r\\n\", \" \"))\n",
    "\n",
    "print(df)"
   ]
  },
  {
   "cell_type": "code",
   "execution_count": 87,
   "metadata": {
    "execution": {
     "iopub.execute_input": "2024-11-15T06:37:36.472886Z",
     "iopub.status.busy": "2024-11-15T06:37:36.472544Z",
     "iopub.status.idle": "2024-11-15T06:37:36.627468Z",
     "shell.execute_reply": "2024-11-15T06:37:36.626157Z",
     "shell.execute_reply.started": "2024-11-15T06:37:36.472842Z"
    }
   },
   "outputs": [],
   "source": [
    "df.to_csv(\"Modified.csv\",index=False)"
   ]
  },
  {
   "cell_type": "code",
   "execution_count": 88,
   "metadata": {
    "execution": {
     "iopub.execute_input": "2024-11-15T06:37:40.649557Z",
     "iopub.status.busy": "2024-11-15T06:37:40.646391Z",
     "iopub.status.idle": "2024-11-15T06:37:40.660242Z",
     "shell.execute_reply": "2024-11-15T06:37:40.659221Z",
     "shell.execute_reply.started": "2024-11-15T06:37:40.649455Z"
    }
   },
   "outputs": [],
   "source": [
    "class Vocabulary(object):\n",
    "    \"\"\"Simple vocabulary wrapper.\"\"\"\n",
    "    def __init__(self):\n",
    "        self.word2idx = {}\n",
    "        self.idx2word = {}\n",
    "        self.idx = 0\n",
    "\n",
    "    def add_word(self, word):\n",
    "        if not word in self.word2idx:\n",
    "            self.word2idx[word] = self.idx\n",
    "            self.idx2word[self.idx] = word\n",
    "            self.idx += 1\n",
    "\n",
    "    def __call__(self, word):\n",
    "        if not word in self.word2idx:\n",
    "            return self.word2idx['<unk>']\n",
    "        return self.word2idx[word]\n",
    "\n",
    "    def __len__(self):\n",
    "        return len(self.word2idx)"
   ]
  },
  {
   "cell_type": "code",
   "execution_count": 89,
   "metadata": {
    "execution": {
     "iopub.execute_input": "2024-11-15T06:37:30.628598Z",
     "iopub.status.busy": "2024-11-15T06:37:30.627949Z",
     "iopub.status.idle": "2024-11-15T06:37:30.641590Z",
     "shell.execute_reply": "2024-11-15T06:37:30.640597Z",
     "shell.execute_reply.started": "2024-11-15T06:37:30.628542Z"
    }
   },
   "outputs": [],
   "source": [
    "def build_vocab(df, threshold=3):\n",
    "    \"\"\"Build a simple vocabulary wrapper.\"\"\"\n",
    "    counter = Counter()\n",
    "    \n",
    "    for i in range(len(df)):\n",
    "        caption = df.iloc[i,4]\n",
    "        tokens = nltk.tokenize.word_tokenize(str(caption))\n",
    "        counter.update(tokens)\n",
    "\n",
    "        if (i+1) % 1000 == 0:\n",
    "                print(\"[{}/{}] Tokenized the sentences.\".format(i+1, len(df)))\n",
    "\n",
    "    # If the word frequency is less than 'threshold', then the word is discarded.\n",
    "    words = [word for word, cnt in counter.items() if cnt >= threshold]\n",
    "\n",
    "    # Create a vocab wrapper and add some special tokens.\n",
    "    vocab = Vocabulary()\n",
    "    vocab.add_word('<pad>')\n",
    "    vocab.add_word('<start>')\n",
    "    vocab.add_word('<end>')\n",
    "    vocab.add_word('<unk>')\n",
    "\n",
    "    # Add the words to the vocabulary.\n",
    "    for i, word in enumerate(words):\n",
    "        vocab.add_word(word)\n",
    "    return vocab"
   ]
  },
  {
   "cell_type": "code",
   "execution_count": 90,
   "metadata": {
    "execution": {
     "iopub.execute_input": "2024-11-15T06:37:44.716664Z",
     "iopub.status.busy": "2024-11-15T06:37:44.713558Z",
     "iopub.status.idle": "2024-11-15T06:37:47.475709Z",
     "shell.execute_reply": "2024-11-15T06:37:47.474816Z",
     "shell.execute_reply.started": "2024-11-15T06:37:44.716559Z"
    },
    "scrolled": true
   },
   "outputs": [
    {
     "name": "stdout",
     "output_type": "stream",
     "text": [
      "6\n"
     ]
    }
   ],
   "source": [
    "import pandas as pd\n",
    "from pickle import dump\n",
    "\n",
    "# Example DataFrame\n",
    "data = {'text_column': ['this is a test', 'another example']}\n",
    "df = pd.DataFrame(data)\n",
    "\n",
    "# Define the build_vocab function\n",
    "def build_vocab(dataframe):\n",
    "    vocab = set()\n",
    "    for text in dataframe['text_column']:  # Replace 'text_column' with your column name\n",
    "        vocab.update(text.split())\n",
    "    return vocab\n",
    "\n",
    "# Build vocabulary and save it\n",
    "v = build_vocab(df)\n",
    "dump(v, open('vocab.pkl', 'wb'))\n",
    "print(len(v))  # Output the length of the vocabulary"
   ]
  },
  {
   "cell_type": "code",
   "execution_count": 91,
   "metadata": {
    "execution": {
     "iopub.execute_input": "2024-11-15T06:37:49.678389Z",
     "iopub.status.busy": "2024-11-15T06:37:49.675025Z",
     "iopub.status.idle": "2024-11-15T06:37:49.718538Z",
     "shell.execute_reply": "2024-11-15T06:37:49.717454Z",
     "shell.execute_reply.started": "2024-11-15T06:37:49.678278Z"
    }
   },
   "outputs": [
    {
     "name": "stdout",
     "output_type": "stream",
     "text": [
      "      Title  TitleUse\n",
      "0  Engineer         2\n",
      "1    Doctor         1\n",
      "2    Artist         0\n",
      "3  Engineer         2\n"
     ]
    }
   ],
   "source": [
    "from sklearn.preprocessing import LabelEncoder  # Import LabelEncoder\n",
    "\n",
    "# Initialize the LabelEncoder\n",
    "le = LabelEncoder()\n",
    "\n",
    "# Example DataFrame\n",
    "import pandas as pd\n",
    "data = {'Title': ['Engineer', 'Doctor', 'Artist', 'Engineer']}\n",
    "df = pd.DataFrame(data)\n",
    "\n",
    "# Apply LabelEncoder to the \"Title\" column\n",
    "df[\"TitleUse\"] = le.fit_transform(df.Title)\n",
    "print(df)"
   ]
  },
  {
   "cell_type": "code",
   "execution_count": 64,
   "metadata": {},
   "outputs": [],
   "source": [
    "# train(model,dataloaderTrain,dataloaderTest,0.001,45)"
   ]
  },
  {
   "cell_type": "code",
   "execution_count": 24,
   "metadata": {},
   "outputs": [],
   "source": [
    "# torch.save(model.state_dict(), \"epoch8.pb\")\n",
    "#torch.save(model.state_dict(), \"epoch8.pb\")"
   ]
  },
  {
   "cell_type": "code",
   "execution_count": 65,
   "metadata": {},
   "outputs": [
    {
     "data": {
      "image/png": "[encoded data removed]",
      "text/plain": [
       "<Figure size 1000x600 with 1 Axes>"
      ]
     },
     "metadata": {},
     "output_type": "display_data"
    }
   ],
   "source": [
    "import pandas as pd\n",
    "import matplotlib.pyplot as plt\n",
    "\n",
    "data = pd.DataFrame({\n",
    "    'JobTitle': ['Engineer', 'Manager', 'Analyst', 'Developer', 'Engineer',\n",
    "                 'Consultant', 'Engineer', 'Manager', 'Developer', 'Analyst']\n",
    "})\n",
    "\n",
    "job_counts = data['JobTitle'].value_counts().head(10)\n",
    "job_counts.plot(kind='bar', color='skyblue', figsize=(10, 6))\n",
    "\n",
    "plt.title('Top 10 Most Frequent Job Titles')\n",
    "plt.xlabel('Job Titles')\n",
    "plt.ylabel('Number of Postings')\n",
    "plt.xticks(rotation=45)\n",
    "plt.tight_layout()\n",
    "plt.show()"
   ]
  },
  {
   "cell_type": "code",
   "execution_count": null,
   "metadata": {},
   "outputs": [],
   "source": []
  }
 ],
 "metadata": {
  "kaggle": {
   "accelerator": "none",
   "dataSources": [
    {
     "datasetId": 1150,
     "sourceId": 2072,
     "sourceType": "datasetVersion"
    },
    {
     "datasetId": 1338631,
     "sourceId": 2228438,
     "sourceType": "datasetVersion"
    }
   ],
   "dockerImageVersionId": 29507,
   "isGpuEnabled": false,
   "isInternetEnabled": false,
   "language": "python",
   "sourceType": "notebook"
  },
  "kernelspec": {
   "display_name": "Python 3 (ipykernel)",
   "language": "python",
   "name": "python3"
  },
  "language_info": {
   "codemirror_mode": {
    "name": "ipython",
    "version": 3
   },
   "file_extension": ".py",
   "mimetype": "text/x-python",
   "name": "python",
   "nbconvert_exporter": "python",
   "pygments_lexer": "ipython3",
   "version": "3.11.5"
  }
 },
 "nbformat": 4,
 "nbformat_minor": 4
}
