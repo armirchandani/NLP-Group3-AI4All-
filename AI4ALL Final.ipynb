{
 "cells": [
  {
   "cell_type": "code",
   "execution_count": 7,
   "metadata": {
    "execution": {
     "iopub.execute_input": "2024-11-15T06:27:48.653606Z",
     "iopub.status.busy": "2024-11-15T06:27:48.653188Z",
     "iopub.status.idle": "2024-11-15T06:28:10.171506Z",
     "shell.execute_reply": "2024-11-15T06:28:10.170730Z",
     "shell.execute_reply.started": "2024-11-15T06:27:48.653552Z"
    }
   },
   "outputs": [
    {
     "ename": "ModuleNotFoundError",
     "evalue": "No module named 'torchvision'",
     "output_type": "error",
     "traceback": [
      "\u001b[0;31m---------------------------------------------------------------------------\u001b[0m",
      "\u001b[0;31mModuleNotFoundError\u001b[0m                       Traceback (most recent call last)",
      "Cell \u001b[0;32mIn[7], line 8\u001b[0m\n\u001b[1;32m      6\u001b[0m \u001b[38;5;28;01mimport\u001b[39;00m \u001b[38;5;21;01mtorch\u001b[39;00m\n\u001b[1;32m      7\u001b[0m \u001b[38;5;28;01mimport\u001b[39;00m \u001b[38;5;21;01mtorch\u001b[39;00m\n\u001b[0;32m----> 8\u001b[0m \u001b[38;5;28;01mfrom\u001b[39;00m \u001b[38;5;21;01mtorchvision\u001b[39;00m \u001b[38;5;28;01mimport\u001b[39;00m models,transforms\n\u001b[1;32m      9\u001b[0m \u001b[38;5;28;01mimport\u001b[39;00m \u001b[38;5;21;01mtorch\u001b[39;00m\u001b[38;5;21;01m.\u001b[39;00m\u001b[38;5;21;01mnn\u001b[39;00m \u001b[38;5;28;01mas\u001b[39;00m \u001b[38;5;21;01mnn\u001b[39;00m\n\u001b[1;32m     10\u001b[0m \u001b[38;5;28;01mimport\u001b[39;00m \u001b[38;5;21;01mtorch\u001b[39;00m\u001b[38;5;21;01m.\u001b[39;00m\u001b[38;5;21;01moptim\u001b[39;00m \u001b[38;5;28;01mas\u001b[39;00m \u001b[38;5;21;01moptim\u001b[39;00m\n",
      "\u001b[0;31mModuleNotFoundError\u001b[0m: No module named 'torchvision'"
     ]
    }
   ],
   "source": [
    "import pandas as pd\n",
    "import numpy as np\n",
    "import sklearn\n",
    "from sklearn.model_selection import train_test_split\n",
    "from sklearn.preprocessing import LabelEncoder\n",
    "import torch\n",
    "import torch\n",
    "from torchvision import models,transforms\n",
    "import torch.nn as nn\n",
    "import torch.optim as optim\n",
    "from PIL import Image\n",
    "from pickle import dump\n",
    "from torch.utils.data import Dataset,DataLoader\n",
    "from collections import Counter\n",
    "import nltk\n",
    "from nltk.corpus import stopwords\n",
    "nltk.download(\"stopwords\")\n",
    "device = torch.device('cpu')\n",
    "data = pd.read_csv(\"../input/jobposts/data job posts.csv\")\n",
    "data"
   ]
  },
  {
   "cell_type": "code",
   "execution_count": null,
   "metadata": {},
   "outputs": [
    {
     "name": "stdout",
     "output_type": "stream",
     "text": [
      "<class 'pandas.core.frame.DataFrame'>\n",
      "RangeIndex: 5 entries, 0 to 4\n",
      "Data columns (total 6 columns):\n",
      " #   Column       Non-Null Count  Dtype \n",
      "---  ------       --------------  ----- \n",
      " 0   Job Title    4 non-null      object\n",
      " 1   Company      4 non-null      object\n",
      " 2   Location     4 non-null      object\n",
      " 3   Posted Date  5 non-null      object\n",
      " 4   Skills       4 non-null      object\n",
      " 5   Salary       4 non-null      object\n",
      "dtypes: object(6)\n",
      "memory usage: 372.0+ bytes\n"
     ]
    },
    {
     "data": {
      "text/plain": [
       "(None,\n",
       "            Job Title Company           Location  Posted Date  \\\n",
       " 0  Software Engineer  Google       New York, NY   2024-10-15   \n",
       " 1     Data Scientist  Amazon        Seattle, WA   2024-11-01   \n",
       " 2    Product Manager    Meta               None  InvalidDate   \n",
       " 3               None   Apple  San Francisco, CA   2024-10-25   \n",
       " 4        UX Designer    None         Austin, TX   2024-11-10   \n",
       " \n",
       "                      Skills         Salary  \n",
       " 0  Python, Machine Learning  120000-140000  \n",
       " 1                      None           None  \n",
       " 2   Agile, Product Strategy  130000-150000  \n",
       " 3        Swift, Objective-C  115000-135000  \n",
       " 4        Figma, UX Research  105000-125000  )"
      ]
     },
     "execution_count": 6,
     "metadata": {},
     "output_type": "execute_result"
    }
   ],
   "source": [
    "import numpy as np\n",
    "\n",
    "mock_data = {\n",
    "    \"Job Title\": [\"Software Engineer\", \"Data Scientist\", \"Product Manager\", None, \"UX Designer\"],\n",
    "    \"Company\": [\"Google\", \"Amazon\", \"Meta\", \"Apple\", None],\n",
    "    \"Location\": [\"New York, NY\", \"Seattle, WA\", None, \"San Francisco, CA\", \"Austin, TX\"],\n",
    "    \"Posted Date\": [\"2024-10-15\", \"2024-11-01\", \"InvalidDate\", \"2024-10-25\", \"2024-11-10\"],\n",
    "    \"Skills\": [\"Python, Machine Learning\", None, \"Agile, Product Strategy\", \"Swift, Objective-C\", \"Figma, UX Research\"],\n",
    "    \"Salary\": [\"120000-140000\", None, \"130000-150000\", \"115000-135000\", \"105000-125000\"]\n",
    "}\n",
    "\n",
    "mock_df = pd.DataFrame(mock_data)\n",
    "\n",
    "mock_df.info(), mock_df.head()\n"
   ]
  },
  {
   "cell_type": "code",
   "execution_count": null,
   "metadata": {
    "execution": {
     "iopub.execute_input": "2024-11-15T06:28:10.178229Z",
     "iopub.status.busy": "2024-11-15T06:28:10.176083Z",
     "iopub.status.idle": "2024-11-15T06:28:10.190056Z",
     "shell.execute_reply": "2024-11-15T06:28:10.189269Z",
     "shell.execute_reply.started": "2024-11-15T06:28:10.178147Z"
    }
   },
   "outputs": [
    {
     "data": {
      "text/plain": [
       "0        To perform this job successfully, an\\r\\nindivi...\n",
       "1        - Bachelor's Degree; Master's is preferred;\\r\\...\n",
       "2        - Degree in environmentally related field, or ...\n",
       "3        - Advanced degree in public health, social sci...\n",
       "4        - University degree; economical background is ...\n",
       "                               ...                        \n",
       "18996    - At least 5 years of experience in Interface/...\n",
       "18997    - University degree, ideally business related;...\n",
       "18998    - Degree in Business, Marketing or a related f...\n",
       "18999    - At least 1 year of experience in online sale...\n",
       "19000    - Higher legal education; Master's degree is a...\n",
       "Name: RequiredQual, Length: 19001, dtype: object"
      ]
     },
     "execution_count": 7,
     "metadata": {},
     "output_type": "execute_result"
    }
   ],
   "source": [
    "data.RequiredQual"
   ]
  },
  {
   "cell_type": "code",
   "execution_count": null,
   "metadata": {
    "execution": {
     "iopub.execute_input": "2024-11-15T06:28:10.197253Z",
     "iopub.status.busy": "2024-11-15T06:28:10.194781Z",
     "iopub.status.idle": "2024-11-15T06:28:10.207301Z",
     "shell.execute_reply": "2024-11-15T06:28:10.206428Z",
     "shell.execute_reply.started": "2024-11-15T06:28:10.197168Z"
    }
   },
   "outputs": [
    {
     "data": {
      "text/plain": [
       "Index(['jobpost', 'date', 'Title', 'Company', 'AnnouncementCode', 'Term',\n",
       "       'Eligibility', 'Audience', 'StartDate', 'Duration', 'Location',\n",
       "       'JobDescription', 'JobRequirment', 'RequiredQual', 'Salary',\n",
       "       'ApplicationP', 'OpeningDate', 'Deadline', 'Notes', 'AboutC', 'Attach',\n",
       "       'Year', 'Month', 'IT'],\n",
       "      dtype='object')"
      ]
     },
     "execution_count": 8,
     "metadata": {},
     "output_type": "execute_result"
    }
   ],
   "source": [
    "data.columns"
   ]
  },
  {
   "cell_type": "code",
   "execution_count": null,
   "metadata": {
    "execution": {
     "iopub.execute_input": "2024-11-15T06:28:10.214362Z",
     "iopub.status.busy": "2024-11-15T06:28:10.212052Z",
     "iopub.status.idle": "2024-11-15T06:28:10.226454Z",
     "shell.execute_reply": "2024-11-15T06:28:10.225293Z",
     "shell.execute_reply.started": "2024-11-15T06:28:10.214288Z"
    }
   },
   "outputs": [
    {
     "data": {
      "text/plain": [
       "0        AMERIA Investment Consulting Company is seekin...\n",
       "1                                                      NaN\n",
       "2        Public outreach and strengthening of a growing...\n",
       "3        The LEAD (Local Enhancement and Development fo...\n",
       "4                                                      NaN\n",
       "                               ...                        \n",
       "18996    A tech startup of Technolinguistics based in N...\n",
       "18997                                                  NaN\n",
       "18998                                                  NaN\n",
       "18999    San Lazzaro LLC is looking for a well-experien...\n",
       "19000    \"Kamurj\" UCO CJSC is looking for a Lawyer in L...\n",
       "Name: JobDescription, Length: 19001, dtype: object"
      ]
     },
     "execution_count": 9,
     "metadata": {},
     "output_type": "execute_result"
    }
   ],
   "source": [
    "data.JobDescription"
   ]
  },
  {
   "cell_type": "code",
   "execution_count": null,
   "metadata": {
    "execution": {
     "iopub.execute_input": "2024-11-15T06:31:19.360517Z",
     "iopub.status.busy": "2024-11-15T06:31:19.359644Z",
     "iopub.status.idle": "2024-11-15T06:31:19.378171Z",
     "shell.execute_reply": "2024-11-15T06:31:19.377289Z",
     "shell.execute_reply.started": "2024-11-15T06:31:19.360444Z"
    }
   },
   "outputs": [
    {
     "data": {
      "text/plain": [
       "0        - Supervises financial management and administ...\n",
       "1                                                      NaN\n",
       "2        - Working with the Country Director to provide...\n",
       "3        - Identify gaps in knowledge and overseeing in...\n",
       "4        - Rendering technical assistance to Database M...\n",
       "                               ...                        \n",
       "18996    - Work closely with product and business teams...\n",
       "18997    - Establish and manage Category Management dev...\n",
       "18998    - Develop, establish and maintain marketing st...\n",
       "18999    - Handle the project activites of the online s...\n",
       "19000    - Properly provide internal legal services of ...\n",
       "Name: JobRequirment, Length: 19001, dtype: object"
      ]
     },
     "execution_count": 10,
     "metadata": {},
     "output_type": "execute_result"
    }
   ],
   "source": [
    "data.JobRequirment"
   ]
  },
  {
   "cell_type": "code",
   "execution_count": null,
   "metadata": {
    "execution": {
     "iopub.execute_input": "2024-11-15T06:31:21.618179Z",
     "iopub.status.busy": "2024-11-15T06:31:21.617785Z",
     "iopub.status.idle": "2024-11-15T06:31:21.662512Z",
     "shell.execute_reply": "2024-11-15T06:31:21.661538Z",
     "shell.execute_reply.started": "2024-11-15T06:31:21.618133Z"
    },
    "scrolled": true
   },
   "outputs": [
    {
     "data": {
      "text/html": [
       "<div>\n",
       "<style scoped>\n",
       "    .dataframe tbody tr th:only-of-type {\n",
       "        vertical-align: middle;\n",
       "    }\n",
       "\n",
       "    .dataframe tbody tr th {\n",
       "        vertical-align: top;\n",
       "    }\n",
       "\n",
       "    .dataframe thead th {\n",
       "        text-align: right;\n",
       "    }\n",
       "</style>\n",
       "<table border=\"1\" class=\"dataframe\">\n",
       "  <thead>\n",
       "    <tr style=\"text-align: right;\">\n",
       "      <th></th>\n",
       "      <th>RequiredQual</th>\n",
       "      <th>JobDescription</th>\n",
       "      <th>JobRequirment</th>\n",
       "      <th>Title</th>\n",
       "    </tr>\n",
       "  </thead>\n",
       "  <tbody>\n",
       "    <tr>\n",
       "      <td>0</td>\n",
       "      <td>To perform this job successfully, an\\r\\nindivi...</td>\n",
       "      <td>AMERIA Investment Consulting Company is seekin...</td>\n",
       "      <td>- Supervises financial management and administ...</td>\n",
       "      <td>Chief Financial Officer</td>\n",
       "    </tr>\n",
       "    <tr>\n",
       "      <td>2</td>\n",
       "      <td>- Degree in environmentally related field, or ...</td>\n",
       "      <td>Public outreach and strengthening of a growing...</td>\n",
       "      <td>- Working with the Country Director to provide...</td>\n",
       "      <td>Country Coordinator</td>\n",
       "    </tr>\n",
       "    <tr>\n",
       "      <td>3</td>\n",
       "      <td>- Advanced degree in public health, social sci...</td>\n",
       "      <td>The LEAD (Local Enhancement and Development fo...</td>\n",
       "      <td>- Identify gaps in knowledge and overseeing in...</td>\n",
       "      <td>BCC Specialist</td>\n",
       "    </tr>\n",
       "    <tr>\n",
       "      <td>13</td>\n",
       "      <td>- Higher Education and/or professional experie...</td>\n",
       "      <td>Food Security Regional Cooperation and Stabili...</td>\n",
       "      <td>- Assist the Tavush Marz communities and commu...</td>\n",
       "      <td>Community Development, Capacity Building and C...</td>\n",
       "    </tr>\n",
       "    <tr>\n",
       "      <td>17</td>\n",
       "      <td>- Minimum Masters Degree in Economics;\\r\\n- Mi...</td>\n",
       "      <td>The United Nations Development Programme in Ar...</td>\n",
       "      <td>The incumbent under direct supervision of UNDP...</td>\n",
       "      <td>Country Economist (NOB)</td>\n",
       "    </tr>\n",
       "    <tr>\n",
       "      <td>...</td>\n",
       "      <td>...</td>\n",
       "      <td>...</td>\n",
       "      <td>...</td>\n",
       "      <td>...</td>\n",
       "    </tr>\n",
       "    <tr>\n",
       "      <td>18992</td>\n",
       "      <td>- 2 - 5 years of experience in software develo...</td>\n",
       "      <td>The incumbent will develop software applicatio...</td>\n",
       "      <td>- Participate in all the steps of the software...</td>\n",
       "      <td>.NET Developer</td>\n",
       "    </tr>\n",
       "    <tr>\n",
       "      <td>18995</td>\n",
       "      <td>- University degree in Civil Engineering, Econ...</td>\n",
       "      <td>The incumbent will be responsible for supporti...</td>\n",
       "      <td>- Support the Director in organizing the activ...</td>\n",
       "      <td>Deputy Director</td>\n",
       "    </tr>\n",
       "    <tr>\n",
       "      <td>18996</td>\n",
       "      <td>- At least 5 years of experience in Interface/...</td>\n",
       "      <td>A tech startup of Technolinguistics based in N...</td>\n",
       "      <td>- Work closely with product and business teams...</td>\n",
       "      <td>Senior Creative UX/ UI Designer</td>\n",
       "    </tr>\n",
       "    <tr>\n",
       "      <td>18999</td>\n",
       "      <td>- At least 1 year of experience in online sale...</td>\n",
       "      <td>San Lazzaro LLC is looking for a well-experien...</td>\n",
       "      <td>- Handle the project activites of the online s...</td>\n",
       "      <td>Head of Online Sales Department</td>\n",
       "    </tr>\n",
       "    <tr>\n",
       "      <td>19000</td>\n",
       "      <td>- Higher legal education; Master's degree is a...</td>\n",
       "      <td>\"Kamurj\" UCO CJSC is looking for a Lawyer in L...</td>\n",
       "      <td>- Properly provide internal legal services of ...</td>\n",
       "      <td>Lawyer in Legal Department</td>\n",
       "    </tr>\n",
       "  </tbody>\n",
       "</table>\n",
       "<p>13124 rows × 4 columns</p>\n",
       "</div>"
      ],
      "text/plain": [
       "                                            RequiredQual  \\\n",
       "0      To perform this job successfully, an\\r\\nindivi...   \n",
       "2      - Degree in environmentally related field, or ...   \n",
       "3      - Advanced degree in public health, social sci...   \n",
       "13     - Higher Education and/or professional experie...   \n",
       "17     - Minimum Masters Degree in Economics;\\r\\n- Mi...   \n",
       "...                                                  ...   \n",
       "18992  - 2 - 5 years of experience in software develo...   \n",
       "18995  - University degree in Civil Engineering, Econ...   \n",
       "18996  - At least 5 years of experience in Interface/...   \n",
       "18999  - At least 1 year of experience in online sale...   \n",
       "19000  - Higher legal education; Master's degree is a...   \n",
       "\n",
       "                                          JobDescription  \\\n",
       "0      AMERIA Investment Consulting Company is seekin...   \n",
       "2      Public outreach and strengthening of a growing...   \n",
       "3      The LEAD (Local Enhancement and Development fo...   \n",
       "13     Food Security Regional Cooperation and Stabili...   \n",
       "17     The United Nations Development Programme in Ar...   \n",
       "...                                                  ...   \n",
       "18992  The incumbent will develop software applicatio...   \n",
       "18995  The incumbent will be responsible for supporti...   \n",
       "18996  A tech startup of Technolinguistics based in N...   \n",
       "18999  San Lazzaro LLC is looking for a well-experien...   \n",
       "19000  \"Kamurj\" UCO CJSC is looking for a Lawyer in L...   \n",
       "\n",
       "                                           JobRequirment  \\\n",
       "0      - Supervises financial management and administ...   \n",
       "2      - Working with the Country Director to provide...   \n",
       "3      - Identify gaps in knowledge and overseeing in...   \n",
       "13     - Assist the Tavush Marz communities and commu...   \n",
       "17     The incumbent under direct supervision of UNDP...   \n",
       "...                                                  ...   \n",
       "18992  - Participate in all the steps of the software...   \n",
       "18995  - Support the Director in organizing the activ...   \n",
       "18996  - Work closely with product and business teams...   \n",
       "18999  - Handle the project activites of the online s...   \n",
       "19000  - Properly provide internal legal services of ...   \n",
       "\n",
       "                                                   Title  \n",
       "0                                Chief Financial Officer  \n",
       "2                                    Country Coordinator  \n",
       "3                                         BCC Specialist  \n",
       "13     Community Development, Capacity Building and C...  \n",
       "17                               Country Economist (NOB)  \n",
       "...                                                  ...  \n",
       "18992                                     .NET Developer  \n",
       "18995                                    Deputy Director  \n",
       "18996                    Senior Creative UX/ UI Designer  \n",
       "18999                    Head of Online Sales Department  \n",
       "19000                         Lawyer in Legal Department  \n",
       "\n",
       "[13124 rows x 4 columns]"
      ]
     },
     "execution_count": 11,
     "metadata": {},
     "output_type": "execute_result"
    }
   ],
   "source": [
    "df = data[[\"RequiredQual\",\"JobDescription\",\"JobRequirment\",\"Title\"]].dropna()\n",
    "df"
   ]
  },
  {
   "cell_type": "code",
   "execution_count": null,
   "metadata": {
    "execution": {
     "iopub.execute_input": "2024-11-15T06:36:56.981176Z",
     "iopub.status.busy": "2024-11-15T06:36:56.980724Z",
     "iopub.status.idle": "2024-11-15T06:36:57.009057Z",
     "shell.execute_reply": "2024-11-15T06:36:57.007889Z",
     "shell.execute_reply.started": "2024-11-15T06:36:56.981042Z"
    }
   },
   "outputs": [
    {
     "data": {
      "text/plain": [
       "Accountant                                216\n",
       "Medical Representative                    151\n",
       "Chief Accountant                          151\n",
       "Java Developer                            132\n",
       "Sales Manager                             126\n",
       "Administrative Assistant                  124\n",
       "Lawyer                                    115\n",
       "Project Manager                            94\n",
       "Software Developer                         79\n",
       "Web Developer                              74\n",
       "Receptionist/ Administrative Assistant     73\n",
       "Office Manager                             65\n",
       "Marketing Specialist                       60\n",
       "QA Engineer                                59\n",
       "Marketing Manager                          59\n",
       "PHP Developer                              52\n",
       "Software Engineer                          51\n",
       "Project Assistant                          46\n",
       "Brand Manager                              46\n",
       "Name: Title, dtype: int64"
      ]
     },
     "execution_count": 16,
     "metadata": {},
     "output_type": "execute_result"
    }
   ],
   "source": [
    "classes = df['Title'].value_counts()[:20]\n",
    "keys = classes.keys().to_list()\n",
    "\n",
    "df = df[df['Title'].isin(keys)]\n",
    "df['Title'].value_counts()"
   ]
  },
  {
   "cell_type": "code",
   "execution_count": null,
   "metadata": {
    "execution": {
     "iopub.execute_input": "2024-11-15T06:36:59.709789Z",
     "iopub.status.busy": "2024-11-15T06:36:59.706522Z",
     "iopub.status.idle": "2024-11-15T06:36:59.744357Z",
     "shell.execute_reply": "2024-11-15T06:36:59.742728Z",
     "shell.execute_reply.started": "2024-11-15T06:36:59.709682Z"
    }
   },
   "outputs": [
    {
     "data": {
      "text/plain": [
       "Accountant                                216\n",
       "Medical Representative                    151\n",
       "Chief Accountant                          151\n",
       "Java Developer                            132\n",
       "Sales Manager                             126\n",
       "Administrative Assistant                  124\n",
       "Lawyer                                    115\n",
       "Project Manager                            94\n",
       "Software Developer                         79\n",
       "Web Developer                              74\n",
       "Receptionist/ Administrative Assistant     73\n",
       "Office Manager                             65\n",
       "Marketing Specialist                       60\n",
       "QA Engineer                                59\n",
       "Marketing Manager                          59\n",
       "PHP Developer                              52\n",
       "Software Engineer                          51\n",
       "Project Assistant                          46\n",
       "Brand Manager                              46\n",
       "Name: Title, dtype: int64"
      ]
     },
     "execution_count": 17,
     "metadata": {},
     "output_type": "execute_result"
    }
   ],
   "source": [
    "def chane_titles(x):\n",
    "    x = x.strip()\n",
    "    if x == 'Senior Java Developer':\n",
    "        return 'Java Developer'\n",
    "    elif x == 'Senior Software Engineer':\n",
    "        return 'Software Engineer'\n",
    "    elif x == 'Senior QA Engineer':\n",
    "        return 'Software QA Engineer'\n",
    "    elif x == 'Senior Software Developer':\n",
    "        return 'Senior Web Developer'\n",
    "    elif x =='Senior PHP Developer':\n",
    "        return 'PHP Developer'\n",
    "    elif x == 'Senior .NET Developer':\n",
    "        return '.NET Developer'\n",
    "    elif x == 'Senior Web Developer':\n",
    "        return 'Web Developer'\n",
    "    elif x == 'Database Administrator':\n",
    "        return 'Database Admin/Dev'\n",
    "    elif x == 'Database Developer':\n",
    "        return 'Database Admin/Dev'\n",
    "\n",
    "    else:\n",
    "        return x\n",
    "        \n",
    "    \n",
    "df['Title'] = df['Title'].apply(chane_titles)\n",
    "df['Title'].value_counts()"
   ]
  },
  {
   "cell_type": "code",
   "execution_count": null,
   "metadata": {
    "execution": {
     "iopub.execute_input": "2024-11-15T06:37:02.962656Z",
     "iopub.status.busy": "2024-11-15T06:37:02.961995Z",
     "iopub.status.idle": "2024-11-15T06:37:03.133741Z",
     "shell.execute_reply": "2024-11-15T06:37:03.132773Z",
     "shell.execute_reply.started": "2024-11-15T06:37:02.962600Z"
    },
    "scrolled": true
   },
   "outputs": [
    {
     "data": {
      "text/html": [
       "<div>\n",
       "<style scoped>\n",
       "    .dataframe tbody tr th:only-of-type {\n",
       "        vertical-align: middle;\n",
       "    }\n",
       "\n",
       "    .dataframe tbody tr th {\n",
       "        vertical-align: top;\n",
       "    }\n",
       "\n",
       "    .dataframe thead th {\n",
       "        text-align: right;\n",
       "    }\n",
       "</style>\n",
       "<table border=\"1\" class=\"dataframe\">\n",
       "  <thead>\n",
       "    <tr style=\"text-align: right;\">\n",
       "      <th></th>\n",
       "      <th>RequiredQual</th>\n",
       "      <th>JobDescription</th>\n",
       "      <th>JobRequirment</th>\n",
       "      <th>Title</th>\n",
       "      <th>Combined</th>\n",
       "    </tr>\n",
       "  </thead>\n",
       "  <tbody>\n",
       "    <tr>\n",
       "      <td>20</td>\n",
       "      <td>- Fluency in spoken and written English; knowl...</td>\n",
       "      <td>This is an excellent opportunity for the right...</td>\n",
       "      <td>- Responsible for managing office administrati...</td>\n",
       "      <td>Administrative Assistant</td>\n",
       "      <td>- Fluency in spoken and written English; knowl...</td>\n",
       "    </tr>\n",
       "    <tr>\n",
       "      <td>74</td>\n",
       "      <td>- Written and oral fluency in English, Armenia...</td>\n",
       "      <td>The accountant is a full-time national staff p...</td>\n",
       "      <td>- Manage program financial system and budget o...</td>\n",
       "      <td>Accountant</td>\n",
       "      <td>- Written and oral fluency in English, Armenia...</td>\n",
       "    </tr>\n",
       "    <tr>\n",
       "      <td>77</td>\n",
       "      <td>- Excellent communication skills. Friendly per...</td>\n",
       "      <td>This is a full-time position based in CCDI's Y...</td>\n",
       "      <td>- Provide translation and interpretation servi...</td>\n",
       "      <td>Administrative Assistant</td>\n",
       "      <td>- Excellent communication skills. Friendly per...</td>\n",
       "    </tr>\n",
       "    <tr>\n",
       "      <td>82</td>\n",
       "      <td>- Experience in working with international org...</td>\n",
       "      <td>World Vision Armenia announces a full-time pos...</td>\n",
       "      <td>- Provide daily administrative and technical s...</td>\n",
       "      <td>Project Assistant</td>\n",
       "      <td>- Experience in working with international org...</td>\n",
       "    </tr>\n",
       "    <tr>\n",
       "      <td>91</td>\n",
       "      <td>- University degree in humanitarian sciences, ...</td>\n",
       "      <td>The UNDP and the Ministry of Health seek\\r\\npr...</td>\n",
       "      <td>- Assist the Project Coordinator in the manage...</td>\n",
       "      <td>Project Assistant</td>\n",
       "      <td>- University degree in humanitarian sciences, ...</td>\n",
       "    </tr>\n",
       "    <tr>\n",
       "      <td>...</td>\n",
       "      <td>...</td>\n",
       "      <td>...</td>\n",
       "      <td>...</td>\n",
       "      <td>...</td>\n",
       "      <td>...</td>\n",
       "    </tr>\n",
       "    <tr>\n",
       "      <td>18970</td>\n",
       "      <td>- At least 2 years of experience in quality as...</td>\n",
       "      <td>BigBek is looking for a highly energetic and\\r...</td>\n",
       "      <td>- Define test pans and test cases based on sof...</td>\n",
       "      <td>QA Engineer</td>\n",
       "      <td>- At least 2 years of experience in quality as...</td>\n",
       "    </tr>\n",
       "    <tr>\n",
       "      <td>18971</td>\n",
       "      <td>- Excellent communication skills;\\r\\n- Good or...</td>\n",
       "      <td>The incumbent will work under the direct super...</td>\n",
       "      <td>- Answer telephone calls and inquiries, forwar...</td>\n",
       "      <td>Receptionist/ Administrative Assistant</td>\n",
       "      <td>- Excellent communication skills; - Good oral ...</td>\n",
       "    </tr>\n",
       "    <tr>\n",
       "      <td>18979</td>\n",
       "      <td>- Higher education diploma in Economics, Engin...</td>\n",
       "      <td>Care Building Services LLC is seeking a Projec...</td>\n",
       "      <td>- Prepare project documents, paperwork and rep...</td>\n",
       "      <td>Project Assistant</td>\n",
       "      <td>- Higher education diploma in Economics, Engin...</td>\n",
       "    </tr>\n",
       "    <tr>\n",
       "      <td>18985</td>\n",
       "      <td>- University degree;\\r\\n- At least 1 year of e...</td>\n",
       "      <td>Under the guidance and supervision of the Head...</td>\n",
       "      <td>The job responsibilities of the Project Assist...</td>\n",
       "      <td>Project Assistant</td>\n",
       "      <td>- University degree; - At least 1 year of expe...</td>\n",
       "    </tr>\n",
       "    <tr>\n",
       "      <td>18990</td>\n",
       "      <td>- Master's degree in IT, Engineering or a rela...</td>\n",
       "      <td>NASDAQ OMX Armenia is seeking an energetic Jav...</td>\n",
       "      <td>- Responsible for developing and building high...</td>\n",
       "      <td>Java Developer</td>\n",
       "      <td>- Master's degree in IT, Engineering or a rela...</td>\n",
       "    </tr>\n",
       "  </tbody>\n",
       "</table>\n",
       "<p>1773 rows × 5 columns</p>\n",
       "</div>"
      ],
      "text/plain": [
       "                                            RequiredQual  \\\n",
       "20     - Fluency in spoken and written English; knowl...   \n",
       "74     - Written and oral fluency in English, Armenia...   \n",
       "77     - Excellent communication skills. Friendly per...   \n",
       "82     - Experience in working with international org...   \n",
       "91     - University degree in humanitarian sciences, ...   \n",
       "...                                                  ...   \n",
       "18970  - At least 2 years of experience in quality as...   \n",
       "18971  - Excellent communication skills;\\r\\n- Good or...   \n",
       "18979  - Higher education diploma in Economics, Engin...   \n",
       "18985  - University degree;\\r\\n- At least 1 year of e...   \n",
       "18990  - Master's degree in IT, Engineering or a rela...   \n",
       "\n",
       "                                          JobDescription  \\\n",
       "20     This is an excellent opportunity for the right...   \n",
       "74     The accountant is a full-time national staff p...   \n",
       "77     This is a full-time position based in CCDI's Y...   \n",
       "82     World Vision Armenia announces a full-time pos...   \n",
       "91     The UNDP and the Ministry of Health seek\\r\\npr...   \n",
       "...                                                  ...   \n",
       "18970  BigBek is looking for a highly energetic and\\r...   \n",
       "18971  The incumbent will work under the direct super...   \n",
       "18979  Care Building Services LLC is seeking a Projec...   \n",
       "18985  Under the guidance and supervision of the Head...   \n",
       "18990  NASDAQ OMX Armenia is seeking an energetic Jav...   \n",
       "\n",
       "                                           JobRequirment  \\\n",
       "20     - Responsible for managing office administrati...   \n",
       "74     - Manage program financial system and budget o...   \n",
       "77     - Provide translation and interpretation servi...   \n",
       "82     - Provide daily administrative and technical s...   \n",
       "91     - Assist the Project Coordinator in the manage...   \n",
       "...                                                  ...   \n",
       "18970  - Define test pans and test cases based on sof...   \n",
       "18971  - Answer telephone calls and inquiries, forwar...   \n",
       "18979  - Prepare project documents, paperwork and rep...   \n",
       "18985  The job responsibilities of the Project Assist...   \n",
       "18990  - Responsible for developing and building high...   \n",
       "\n",
       "                                        Title  \\\n",
       "20                   Administrative Assistant   \n",
       "74                                 Accountant   \n",
       "77                   Administrative Assistant   \n",
       "82                          Project Assistant   \n",
       "91                          Project Assistant   \n",
       "...                                       ...   \n",
       "18970                             QA Engineer   \n",
       "18971  Receptionist/ Administrative Assistant   \n",
       "18979                       Project Assistant   \n",
       "18985                       Project Assistant   \n",
       "18990                          Java Developer   \n",
       "\n",
       "                                                Combined  \n",
       "20     - Fluency in spoken and written English; knowl...  \n",
       "74     - Written and oral fluency in English, Armenia...  \n",
       "77     - Excellent communication skills. Friendly per...  \n",
       "82     - Experience in working with international org...  \n",
       "91     - University degree in humanitarian sciences, ...  \n",
       "...                                                  ...  \n",
       "18970  - At least 2 years of experience in quality as...  \n",
       "18971  - Excellent communication skills; - Good oral ...  \n",
       "18979  - Higher education diploma in Economics, Engin...  \n",
       "18985  - University degree; - At least 1 year of expe...  \n",
       "18990  - Master's degree in IT, Engineering or a rela...  \n",
       "\n",
       "[1773 rows x 5 columns]"
      ]
     },
     "execution_count": 18,
     "metadata": {},
     "output_type": "execute_result"
    }
   ],
   "source": [
    "df[\"Combined\"] = df.RequiredQual + df.JobDescription + df.JobRequirment\n",
    "df.Combined = df.Combined.apply(lambda x: x.replace(\"\\r\\n\",\" \"))\n",
    "df"
   ]
  },
  {
   "cell_type": "code",
   "execution_count": null,
   "metadata": {
    "execution": {
     "iopub.execute_input": "2024-11-15T06:37:05.496518Z",
     "iopub.status.busy": "2024-11-15T06:37:05.493969Z",
     "iopub.status.idle": "2024-11-15T06:37:05.506961Z",
     "shell.execute_reply": "2024-11-15T06:37:05.506075Z",
     "shell.execute_reply.started": "2024-11-15T06:37:05.496440Z"
    }
   },
   "outputs": [
    {
     "data": {
      "text/plain": [
       "'- Fluency in spoken and written English; knowledge of other European languages will be desirable; - Wide-ranging administrative skills (knowledge of accounting/bookkeeping work, knowledge of tax, social security and accounting maters as per the British law, IT skills, etc); - Ability to prioritise competing tasks, even under pressure, in a methodical and systematic manner; - Experience in working using her/his own initiative as well as working in a team; - Excellent inter-personal and communication skills; - Excellent organising skills, including event organisation; - An international outlook and interest in developmental issues; - Comfortable in dealing with high-level dignitaries and working in an international environment.  REMUNERATION:  18,000 per annum.This is an excellent opportunity for the right person to join CUTS Centre for International Trade, Economics and Environment, London. CUTS (Consumer Unity & Trust Society) is a charitable organisation, with its headquarters in Jaipur, India, working at the local, national, regional and international levels, and has recently opened an office in London. The London office will coordinate and manage research and advocacy work on trade and economic issues and will also support other offices of CUTS by raising funds, organising events, etc. The organisation is concerned with the impact of international trade and economic regime on developing countries and advocates for the poor at different levels. The position will involve providing support for all these activities. Applicants must have experience in office administration.- Responsible for managing office administration, including accounts, etc.;  - To provide administrative support to other staff (set-up and maintenance of the filing system, organising travel, events, etc); - Manage office communications (written, electronic and telephonic); liaison work with funding agencies, CUTS offices in other countries, other organisations, individuals; dealing with enquiries, etc.; - To manage general administration, including safety-related issues, human resources-related issues, etc.; In addition to responsibilities outlined above, the post will occasionally entail duties outside the normal working hours, such as managing events, accompanying visitors, working to meet deadlines, etc. Flexibility and good humour are essential.'"
      ]
     },
     "execution_count": 19,
     "metadata": {},
     "output_type": "execute_result"
    }
   ],
   "source": [
    "df.iloc[0,4]"
   ]
  },
  {
   "cell_type": "code",
   "execution_count": null,
   "metadata": {
    "execution": {
     "iopub.execute_input": "2024-11-15T06:37:36.472886Z",
     "iopub.status.busy": "2024-11-15T06:37:36.472544Z",
     "iopub.status.idle": "2024-11-15T06:37:36.627468Z",
     "shell.execute_reply": "2024-11-15T06:37:36.626157Z",
     "shell.execute_reply.started": "2024-11-15T06:37:36.472842Z"
    }
   },
   "outputs": [],
   "source": [
    "df.to_csv(\"Modified.csv\",index=False)"
   ]
  },
  {
   "cell_type": "code",
   "execution_count": null,
   "metadata": {
    "execution": {
     "iopub.execute_input": "2024-11-15T06:37:40.649557Z",
     "iopub.status.busy": "2024-11-15T06:37:40.646391Z",
     "iopub.status.idle": "2024-11-15T06:37:40.660242Z",
     "shell.execute_reply": "2024-11-15T06:37:40.659221Z",
     "shell.execute_reply.started": "2024-11-15T06:37:40.649455Z"
    }
   },
   "outputs": [],
   "source": [
    "class Vocabulary(object):\n",
    "    \"\"\"Simple vocabulary wrapper.\"\"\"\n",
    "    def __init__(self):\n",
    "        self.word2idx = {}\n",
    "        self.idx2word = {}\n",
    "        self.idx = 0\n",
    "\n",
    "    def add_word(self, word):\n",
    "        if not word in self.word2idx:\n",
    "            self.word2idx[word] = self.idx\n",
    "            self.idx2word[self.idx] = word\n",
    "            self.idx += 1\n",
    "\n",
    "    def __call__(self, word):\n",
    "        if not word in self.word2idx:\n",
    "            return self.word2idx['<unk>']\n",
    "        return self.word2idx[word]\n",
    "\n",
    "    def __len__(self):\n",
    "        return len(self.word2idx)"
   ]
  },
  {
   "cell_type": "code",
   "execution_count": null,
   "metadata": {
    "execution": {
     "iopub.execute_input": "2024-11-15T06:37:30.628598Z",
     "iopub.status.busy": "2024-11-15T06:37:30.627949Z",
     "iopub.status.idle": "2024-11-15T06:37:30.641590Z",
     "shell.execute_reply": "2024-11-15T06:37:30.640597Z",
     "shell.execute_reply.started": "2024-11-15T06:37:30.628542Z"
    }
   },
   "outputs": [],
   "source": [
    "def build_vocab(df, threshold=3):\n",
    "    \"\"\"Build a simple vocabulary wrapper.\"\"\"\n",
    "    counter = Counter()\n",
    "    \n",
    "    for i in range(len(df)):\n",
    "        caption = df.iloc[i,4]\n",
    "        tokens = nltk.tokenize.word_tokenize(str(caption))\n",
    "        counter.update(tokens)\n",
    "\n",
    "        if (i+1) % 1000 == 0:\n",
    "                print(\"[{}/{}] Tokenized the sentences.\".format(i+1, len(df)))\n",
    "\n",
    "    # If the word frequency is less than 'threshold', then the word is discarded.\n",
    "    words = [word for word, cnt in counter.items() if cnt >= threshold]\n",
    "\n",
    "    # Create a vocab wrapper and add some special tokens.\n",
    "    vocab = Vocabulary()\n",
    "    vocab.add_word('<pad>')\n",
    "    vocab.add_word('<start>')\n",
    "    vocab.add_word('<end>')\n",
    "    vocab.add_word('<unk>')\n",
    "\n",
    "    # Add the words to the vocabulary.\n",
    "    for i, word in enumerate(words):\n",
    "        vocab.add_word(word)\n",
    "    return vocab"
   ]
  },
  {
   "cell_type": "code",
   "execution_count": null,
   "metadata": {
    "execution": {
     "iopub.execute_input": "2024-11-15T06:37:44.716664Z",
     "iopub.status.busy": "2024-11-15T06:37:44.713558Z",
     "iopub.status.idle": "2024-11-15T06:37:47.475709Z",
     "shell.execute_reply": "2024-11-15T06:37:47.474816Z",
     "shell.execute_reply.started": "2024-11-15T06:37:44.716559Z"
    },
    "scrolled": true
   },
   "outputs": [
    {
     "name": "stdout",
     "output_type": "stream",
     "text": [
      "6\n"
     ]
    }
   ],
   "source": [
    "import pandas as pd\n",
    "from pickle import dump\n",
    "\n",
    "# Example DataFrame\n",
    "data = {'text_column': ['this is a test', 'another example']}\n",
    "df = pd.DataFrame(data)\n",
    "\n",
    "# Define the build_vocab function\n",
    "def build_vocab(dataframe):\n",
    "    vocab = set()\n",
    "    for text in dataframe['text_column']:  # Replace 'text_column' with your column name\n",
    "        vocab.update(text.split())\n",
    "    return vocab\n",
    "\n",
    "# Build vocabulary and save it\n",
    "v = build_vocab(df)\n",
    "dump(v, open('vocab.pkl', 'wb'))\n",
    "print(len(v))  # Output the length of the vocabulary"
   ]
  },
  {
   "cell_type": "code",
   "execution_count": null,
   "metadata": {
    "execution": {
     "iopub.execute_input": "2024-11-15T06:37:49.678389Z",
     "iopub.status.busy": "2024-11-15T06:37:49.675025Z",
     "iopub.status.idle": "2024-11-15T06:37:49.718538Z",
     "shell.execute_reply": "2024-11-15T06:37:49.717454Z",
     "shell.execute_reply.started": "2024-11-15T06:37:49.678278Z"
    }
   },
   "outputs": [
    {
     "name": "stdout",
     "output_type": "stream",
     "text": [
      "      Title  TitleUse\n",
      "0  Engineer         2\n",
      "1    Doctor         1\n",
      "2    Artist         0\n",
      "3  Engineer         2\n"
     ]
    }
   ],
   "source": [
    "from sklearn.preprocessing import LabelEncoder  # Import LabelEncoder\n",
    "\n",
    "# Initialize the LabelEncoder\n",
    "le = LabelEncoder()\n",
    "\n",
    "# Example DataFrame\n",
    "import pandas as pd\n",
    "data = {'Title': ['Engineer', 'Doctor', 'Artist', 'Engineer']}\n",
    "df = pd.DataFrame(data)\n",
    "\n",
    "# Apply LabelEncoder to the \"Title\" column\n",
    "df[\"TitleUse\"] = le.fit_transform(df.Title)\n",
    "print(df)"
   ]
  },
  {
   "cell_type": "code",
   "execution_count": null,
   "metadata": {
    "execution": {
     "iopub.execute_input": "2024-11-15T06:37:52.471800Z",
     "iopub.status.busy": "2024-11-15T06:37:52.468787Z",
     "iopub.status.idle": "2024-11-15T06:37:52.484576Z",
     "shell.execute_reply": "2024-11-15T06:37:52.483311Z",
     "shell.execute_reply.started": "2024-11-15T06:37:52.471705Z"
    }
   },
   "outputs": [
    {
     "data": {
      "text/plain": [
       "19"
      ]
     },
     "execution_count": 27,
     "metadata": {},
     "output_type": "execute_result"
    }
   ],
   "source": [
    "df.iloc[:,5].nunique()"
   ]
  },
  {
   "cell_type": "code",
   "execution_count": null,
   "metadata": {
    "execution": {
     "iopub.execute_input": "2024-11-15T06:37:54.483506Z",
     "iopub.status.busy": "2024-11-15T06:37:54.483118Z",
     "iopub.status.idle": "2024-11-15T06:37:54.639533Z",
     "shell.execute_reply": "2024-11-15T06:37:54.638664Z",
     "shell.execute_reply.started": "2024-11-15T06:37:54.483460Z"
    }
   },
   "outputs": [
    {
     "data": {
      "text/plain": [
       "tensor([ 1.,  0.,  1.,  ..., 11., 11.,  4.])"
      ]
     },
     "execution_count": 28,
     "metadata": {},
     "output_type": "execute_result"
    }
   ],
   "source": [
    "x = torch.Tensor(np.array(df.iloc[:,5]))\n",
    "x"
   ]
  },
  {
   "cell_type": "code",
   "execution_count": null,
   "metadata": {
    "execution": {
     "iopub.execute_input": "2024-11-15T06:37:57.092859Z",
     "iopub.status.busy": "2024-11-15T06:37:57.090282Z",
     "iopub.status.idle": "2024-11-15T06:37:57.107448Z",
     "shell.execute_reply": "2024-11-15T06:37:57.106442Z",
     "shell.execute_reply.started": "2024-11-15T06:37:57.092780Z"
    }
   },
   "outputs": [],
   "source": [
    "class Data(Dataset):\n",
    "    def __init__(self,df,vocab):\n",
    "        self.df = df\n",
    "        self.vocab = vocab\n",
    "\n",
    "    def __len__(self):\n",
    "        return len(self.df)\n",
    "\n",
    "    def __getitem__(self,idx):\n",
    "        if torch.is_tensor(idx):\n",
    "            idx = idx.tolist()\n",
    "        tokens = nltk.tokenize.word_tokenize(str(df.iloc[idx,4]))\n",
    "        caption = []\n",
    "        caption.append(self.vocab('<start>'))\n",
    "        caption.extend([self.vocab(token) for token in tokens])\n",
    "        caption.append(self.vocab('<end>'))\n",
    "        return caption,x[idx]\n",
    "\n",
    "def collate_fn(data):\n",
    "    data.sort(key=lambda x: len(x[0]), reverse=True)\n",
    "    captions,labels = zip(*data)\n",
    "    lengths = [len(cap) for cap in captions]\n",
    "    targets = torch.zeros(len(captions), max(lengths)).long()\n",
    "    for i, cap in enumerate(captions):\n",
    "        end = lengths[i]\n",
    "        targets[i, :end] = torch.Tensor(cap[:end])        \n",
    "    return targets.to(device), labels"
   ]
  },
  {
   "cell_type": "code",
   "execution_count": null,
   "metadata": {
    "execution": {
     "iopub.execute_input": "2024-11-15T06:37:59.930888Z",
     "iopub.status.busy": "2024-11-15T06:37:59.927845Z",
     "iopub.status.idle": "2024-11-15T06:37:59.951744Z",
     "shell.execute_reply": "2024-11-15T06:37:59.950755Z",
     "shell.execute_reply.started": "2024-11-15T06:37:59.930786Z"
    }
   },
   "outputs": [],
   "source": [
    "X_train,X_test,y_train,y_test = train_test_split(df.Combined,df.Title,test_size = 0.15,random_state = 0)\n",
    "train = Data(pd.DataFrame(X_train),v)\n",
    "test = Data(pd.DataFrame(X_test),v)\n",
    "dataloaderTrain = DataLoader(train,4,num_workers=0,collate_fn=collate_fn)\n",
    "dataloaderTest = DataLoader(test,4,num_workers=0,collate_fn=collate_fn)"
   ]
  },
  {
   "cell_type": "code",
   "execution_count": null,
   "metadata": {
    "execution": {
     "iopub.execute_input": "2024-11-15T06:38:02.379987Z",
     "iopub.status.busy": "2024-11-15T06:38:02.376905Z",
     "iopub.status.idle": "2024-11-15T06:38:02.423396Z",
     "shell.execute_reply": "2024-11-15T06:38:02.422403Z",
     "shell.execute_reply.started": "2024-11-15T06:38:02.379891Z"
    }
   },
   "outputs": [
    {
     "name": "stdout",
     "output_type": "stream",
     "text": [
      "tensor([[  1,   4, 173,  ..., 305,  72,   2],\n",
      "        [  1,   4,  54,  ...,   0,   0,   0],\n",
      "        [  1,   4,   5,  ...,   0,   0,   0],\n",
      "        [  1,   4,  47,  ...,   0,   0,   0]])\n",
      "(tensor(0.), tensor(1.), tensor(1.), tensor(11.))\n",
      "torch.Size([4, 737]) torch.Size([4])\n"
     ]
    }
   ],
   "source": [
    "for i,j in dataloaderTrain:\n",
    "    print(i)\n",
    "    print(j)\n",
    "    print(i.shape,torch.stack(j).shape)\n",
    "    break"
   ]
  },
  {
   "cell_type": "code",
   "execution_count": null,
   "metadata": {},
   "outputs": [],
   "source": [
    "# train(model,dataloaderTrain,dataloaderTest,0.001,45)"
   ]
  },
  {
   "cell_type": "code",
   "execution_count": null,
   "metadata": {},
   "outputs": [],
   "source": [
    "# torch.save(model.state_dict(), \"epoch8.pb\")\n",
    "#torch.save(model.state_dict(), \"epoch8.pb\")"
   ]
  },
  {
   "cell_type": "code",
   "execution_count": null,
   "metadata": {},
   "outputs": [
    {
     "data": {
      "image/png": "[encoded data removed]",
      "text/plain": [
       "<Figure size 1000x600 with 1 Axes>"
      ]
     },
     "metadata": {},
     "output_type": "display_data"
    }
   ],
   "source": [
    "# Example dummy data\n",
    "import pandas as pd\n",
    "import matplotlib.pyplot as plt\n",
    "\n",
    "data = pd.DataFrame({\n",
    "    'JobTitle': ['Engineer', 'Manager', 'Analyst', 'Developer', 'Engineer',\n",
    "                 'Consultant', 'Engineer', 'Manager', 'Developer', 'Analyst']\n",
    "})\n",
    "\n",
    "job_counts = data['JobTitle'].value_counts().head(10)\n",
    "job_counts.plot(kind='bar', color='skyblue', figsize=(10, 6))\n",
    "\n",
    "plt.title('Top 10 Most Frequent Job Titles')\n",
    "plt.xlabel('Job Titles')\n",
    "plt.ylabel('Number of Postings')\n",
    "plt.xticks(rotation=45)\n",
    "plt.tight_layout()\n",
    "plt.show()"
   ]
  },
  {
   "cell_type": "code",
   "execution_count": null,
   "metadata": {},
   "outputs": [],
   "source": [
    "import pandas as pd\n",
    "import numpy as np\n",
    "from sklearn.model_selection import train_test_split\n",
    "from sklearn.linear_model import LinearRegression\n",
    "from sklearn.preprocessing import OneHotEncoder\n",
    "from sklearn.metrics import mean_squared_error, r2_score\n",
    "# Function to extract average salary from salary range\n",
    "def extract_salary(salary_str):\n",
    "    \"\"\"Extracts average salary from a salary range string.\"\"\"\n",
    "    if pd.isna(salary_str):\n",
    "        return np.nan\n",
    "    elif '-' in salary_str:\n",
    "        low, high = map(int, salary_str.split('-'))\n",
    "        return (low + high) / 2  # Return the average salary\n",
    "    return np.nan\n",
    "# Function to preprocess the DataFrame\n",
    "def preprocess_data(df):\n",
    "    \"\"\"Preprocesses the DataFrame by extracting salaries and encoding job titles.\"\"\"\n",
    "    # Extract average salary\n",
    "    df['Salary'] = df['Salary'].apply(extract_salary)\n",
    "    # Drop rows with NaN values in Salary\n",
    "    df = df.dropna(subset=['Salary'])\n",
    "    # One-hot encode categorical features (job titles)\n",
    "    X = pd.get_dummies(df[['TitleUse']], drop_first=True)  # Use TitleUse as features\n",
    "    y = df['Salary']  # Target variable\n",
    "    return X, y\n",
    "# Function to train the linear regression model\n",
    "def train_linear_regression(X_train, y_train):\n",
    "    \"\"\"Trains a Linear Regression model.\"\"\"\n",
    "    model = LinearRegression()\n",
    "    model.fit(X_train, y_train)\n",
    "    return model\n",
    "# Function to evaluate the model\n",
    "def evaluate_model(model, X_test, y_test):\n",
    "    \"\"\"Evaluates the trained model using Mean Squared Error and R^2 Score.\"\"\"\n",
    "    y_pred = model.predict(X_test)\n",
    "    mse = mean_squared_error(y_test, y_pred)\n",
    "    r2 = r2_score(y_test, y_pred)\n",
    "    return mse, r2\n",
    "# Main function to execute the workflow\n",
    "def main():\n",
    "    # Load the dataset\n",
    "    data = pd.read_csv(\"../input/jobposts/data job posts.csv\")\n",
    "    \n",
    "    # Preprocess the data\n",
    "    X, y = preprocess_data(data)\n",
    "    # Split the data into training and testing sets\n",
    "    X_train, X_test, y_train, y_test = train_test_split(X, y, test_size=0.15, random_state=0)\n",
    "    # Train the linear regression model\n",
    "    model = train_linear_regression(X_train, y_train)\n",
    "    # Evaluate the model\n",
    "    mse, r2 = evaluate_model(model, X_test, y_test)\n",
    "    # Print evaluation metrics\n",
    "    print(f'Mean Squared Error: {mse}')\n",
    "    print(f'R^2 Score: {r2}')\n",
    "if __name__ == \"__main__\":\n",
    "    main()"
   ]
  },
  {
   "cell_type": "code",
   "execution_count": null,
   "metadata": {},
   "outputs": [],
   "source": [
    "import pandas as pd\n",
    "import numpy as np\n",
    "import matplotlib.pyplot as plt\n",
    "import seaborn as sns\n",
    "from sklearn.model_selection import train_test_split\n",
    "from sklearn.ensemble import RandomForestRegressor\n",
    "from sklearn.metrics import mean_squared_error, r2_score\n",
    "from sklearn.preprocessing import LabelEncoder\n",
    "\n",
    "# Function to preprocess the data\n",
    "def preprocess_data(df):\n",
    "    \"\"\"Preprocesses the DataFrame by encoding categorical variables and handling missing values.\"\"\"\n",
    "    # Handle categorical variables\n",
    "    label_encoder = LabelEncoder()\n",
    "    df['Position'] = label_encoder.fit_transform(df['Position'])\n",
    "    \n",
    "    # Drop rows with NaN values\n",
    "    df = df.dropna()\n",
    "    \n",
    "    # Define features and target variable\n",
    "    X = df[['Position']]  # Features\n",
    "    y = df['Salary']      # Target variable\n",
    "    \n",
    "    return X, y\n",
    "\n",
    "# Function to train the Random Forest model\n",
    "def train_random_forest(X_train, y_train):\n",
    "    \"\"\"Trains a Random Forest Regressor model.\"\"\"\n",
    "    model = RandomForestRegressor(n_estimators=100, random_state=0, oob_score=True)\n",
    "    model.fit(X_train, y_train)\n",
    "    return model\n",
    "\n",
    "# Function to evaluate the model\n",
    "def evaluate_model(model, X_test, y_test):\n",
    "    \"\"\"Evaluates the trained model using Mean Squared Error and R^2 Score.\"\"\"\n",
    "    y_pred = model.predict(X_test)\n",
    "    mse = mean_squared_error(y_test, y_pred)\n",
    "    r2 = r2_score(y_test, y_pred)\n",
    "    return mse, r2, y_pred\n",
    "\n",
    "# Function to visualize data\n",
    "def visualize_data(df, y_test, y_pred):\n",
    "    \"\"\"Visualizes the salary distribution and model predictions.\"\"\"\n",
    "    # 1. Distribution of Salaries\n",
    "    plt.figure(figsize=(12, 6))\n",
    "    sns.histplot(df['Salary'], bins=30, kde=True)\n",
    "    plt.title('Distribution of Salaries')\n",
    "    plt.xlabel('Salary')\n",
    "    plt.ylabel('Frequency')\n",
    "    plt.grid()\n",
    "    plt.show()\n",
    "    \n",
    "    # 2. Predicted vs Actual Salaries\n",
    "    plt.figure(figsize=(12, 6))\n",
    "    plt.scatter(y_test, y_pred, alpha=0.6)\n",
    "    plt.plot([y_test.min(), y_test.max()], [y_test.min(), y_test.max()], 'r--')  # Diagonal line\n",
    "    plt.title('Predicted vs Actual Salaries')\n",
    "    plt.xlabel('Actual Salaries')\n",
    "    plt.ylabel('Predicted Salaries')\n",
    "    plt.grid()\n",
    "    plt.show()\n",
    "\n",
    "    # 3. Feature Importance\n",
    "    feature_importances = pd.Series(model.feature_importances_, index=X_train.columns)\n",
    "    feature_importances.nlargest(10).plot(kind='barh', figsize=(12, 6))\n",
    "    plt.title('Feature Importance')\n",
    "    plt.show()\n",
    "\n",
    "# Main function to execute the workflow\n",
    "def main():\n",
    "    # Load the dataset\n",
    "    df = pd.read_csv('Salaries.csv')\n",
    "    \n",
    "    # Preprocess the data\n",
    "    X, y = preprocess_data(df)\n",
    "\n",
    "    # Split the data into training and testing sets\n",
    "    X_train, X_test, y_train, y_test = train_test_split(X, y, test_size=0.2, random_state=0)\n",
    "\n",
    "    # Train the Random Forest model\n",
    "    model = train_random_forest(X_train, y_train)\n",
    "\n",
    "    # Evaluate the model\n",
    "    mse, r2, y_pred = evaluate_model(model, X_test, y_test)\n",
    "\n",
    "    # Print evaluation metrics\n",
    "    print(f'Mean Squared Error: {mse}')\n",
    "    print(f'R^2 Score: {r2}')\n",
    "    print(f'Out-of-Bag Score: {model.oob_score_}')\n",
    "\n",
    "    # Visualize the data\n",
    "    visualize_data(df, y_test, y_pred)\n",
    "\n",
    "if __name__ == \"__main__\":\n",
    "    main()\n",
    "\n"
   ]
  }
 ],
 "metadata": {
  "kaggle": {
   "accelerator": "none",
   "dataSources": [
    {
     "datasetId": 1150,
     "sourceId": 2072,
     "sourceType": "datasetVersion"
    },
    {
     "datasetId": 1338631,
     "sourceId": 2228438,
     "sourceType": "datasetVersion"
    }
   ],
   "dockerImageVersionId": 29507,
   "isGpuEnabled": false,
   "isInternetEnabled": false,
   "language": "python",
   "sourceType": "notebook"
  },
  "kernelspec": {
   "display_name": "Python 3",
   "language": "python",
   "name": "python3"
  },
  "language_info": {
   "codemirror_mode": {
    "name": "ipython",
    "version": 3
   },
   "file_extension": ".py",
   "mimetype": "text/x-python",
   "name": "python",
   "nbconvert_exporter": "python",
   "pygments_lexer": "ipython3",
   "version": "3.12.1"
  }
 },
 "nbformat": 4,
 "nbformat_minor": 4
}
